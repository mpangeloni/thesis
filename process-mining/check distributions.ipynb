{
 "cells": [
  {
   "cell_type": "markdown",
   "id": "b6263f5b-e096-488b-ba5c-c7f7c55a884f",
   "metadata": {},
   "source": [
    "<h1>Check the distribution that some data follows</h1>"
   ]
  },
  {
   "cell_type": "code",
   "execution_count": 1,
   "id": "005f15e2",
   "metadata": {},
   "outputs": [],
   "source": [
    "import numpy as np\n",
    "import time\n",
    "import re\n",
    "from collections import defaultdict\n",
    "from methods import *\n",
    "from ourAlgorithm import *\n",
    "import math\n",
    "import random\n",
    "import imageio\n",
    "import matplotlib.pyplot as plt\n",
    "from datetime import datetime\n",
    "import copy"
   ]
  },
  {
   "cell_type": "code",
   "execution_count": 2,
   "id": "70ba055e-c033-4504-b213-c829e52fa91d",
   "metadata": {},
   "outputs": [],
   "source": [
    "# Read the dataset into data (list of lines)\n",
    "data = [line.strip() for line in open(\"data\")]"
   ]
  },
  {
   "cell_type": "code",
   "execution_count": 3,
   "id": "88000abf",
   "metadata": {},
   "outputs": [
    {
     "name": "stdout",
     "output_type": "stream",
     "text": [
      "1st type of atypical input:     2011-05-10 18:42:45.169231 c OFF\n",
      "  2nd type of atypical input:   2011-05-17 11:40:03.013619 LEAVEHOME 180\n",
      "  2nd type of atypical input:   2011-05-17 14:58:04.907136 LEAVEHOME 300\n",
      "  2nd type of atypical input:   2011-05-17 18:31:56.044148 LEAVEHOME 300\n",
      "  2nd type of atypical input:   2011-05-18 12:22:23.315366 LEAVEHOME 300\n",
      "  2nd type of atypical input:   2011-05-18 14:12:13.738946 ENTERHOME 6592\n",
      "    3rd type of atypical input: 2011-06-11 23:58:10.004834 T002 25 Sleeping end\n"
     ]
    }
   ],
   "source": [
    "newdata, activities, types, all_days, all_sensors, all_activities = [], [], defaultdict(lambda:[]), set(), set(), set()\n",
    "reg = \"(\\d{4}-\\d{2}-\\d{2})\\s(\\d{2}:\\d{2}:\\d{2}(?:\\.\\d+)?)\\s+([MDT]\\d+)\\s+(.+)\"\n",
    "enter_or_leave = \"(\\d{4}-\\d{2}-\\d{2})\\s(\\d{2}:\\d{2}:\\d{2}(?:\\.\\d+)?)\\s+(.+HOME)\\s+(.+)\"\n",
    "for i,line in enumerate(data):\n",
    "    line = re.sub(\"\\s+\",\" \",line.replace(\"\\t\",\" \"))\n",
    "    # there are four common typos in the dataset\n",
    "    if re.search(\"OF Meal_Preparation end\",line):\n",
    "        line = line.replace(\"OF Meal_Preparation end\",\"OFF Meal_Preparation end\")\n",
    "    if re.search(\"O Relax\",line):\n",
    "        line = line.replace(\"O Relax\",\"ON Relax\")\n",
    "    if re.search(\"OcFF\",line):\n",
    "        line = line.replace(\"OcFF\",\"OFF\") \n",
    "    if re.search(\"OFcF\",line):\n",
    "        line = line.replace(\"OFcF\",\"OFF\") \n",
    "    if \"T002 25 Sleeping end\" in line:\n",
    "        print(\"    3rd type of atypical input:\",line)\n",
    "    m = re.search(reg,line)\n",
    "    if m:\n",
    "        date, time, sensor, activity = tuple(m.group(i) for i in range(1,5))\n",
    "        all_days.add(date)\n",
    "        all_sensors.add(sensor)\n",
    "        types[sensor].append((date,time,activity))\n",
    "        newdata.append((date,time,sensor,activity))\n",
    "        m_activ = re.search(\"(ON|OFF|OPEN|CLOSE|25|O|OF) (.+)\",activity)\n",
    "        if m_activ:\n",
    "            activities.append((date,time,m_activ.group(2)))\n",
    "            all_activities.add(m_activ.group(2).replace(\" begin\",\"\").replace(\" end\",\"\"))\n",
    "    elif re.search(enter_or_leave,line):\n",
    "        m = re.search(enter_or_leave,line)\n",
    "        print(\"  2nd type of atypical input:  \",line)\n",
    "    else:\n",
    "        print(\"1st type of atypical input:    \",line)\n",
    "all_days = sorted(list(all_days))\n",
    "all_sensors = sorted(list(all_sensors))\n",
    "all_activities = sorted(list(all_activities))\n",
    "data_by_day = defaultdict(lambda:[])\n",
    "for date,time,sensor,text in newdata:\n",
    "    data_by_day[date].append((time,sensor,text))"
   ]
  },
  {
   "cell_type": "markdown",
   "id": "0715c463-4d15-40ea-8519-2eaa7a05b72e",
   "metadata": {},
   "source": [
    "Note that there is one activity ending with a temperature sensor instead of motion sensor.\n",
    "We decide to ignore, at this point, entries of the 1st and 2nd type.\n",
    "newdata = list of tuples (date, time, sensor, descriptive text)\n",
    "activities = list of tuples (date, time, activity begin|and)\n",
    "types = dictionary with name of sensors as keys and a list of descriptive texts as values\n",
    "all_days = a sorted list with all the dates included in the dataset\n",
    "all_sensors = a sorted list with all the sensors included in the dataset\n",
    "all_activities = a sorted list with all the activities included in the dataset\n",
    "data_by_day = a dictionary in which we have all the data from newdata directly accesible by day"
   ]
  },
  {
   "cell_type": "markdown",
   "id": "801a8212-76e0-4ed8-8010-404baeeabe55",
   "metadata": {},
   "source": [
    "<h3>We need to clean data before anything else. For example, if we have a sensor that turns on and never turns off, or a sensor turning off that was already off</h3>"
   ]
  },
  {
   "cell_type": "code",
   "execution_count": 4,
   "id": "3e3a8fe5-6686-49a8-8237-e47b2a8bc92b",
   "metadata": {},
   "outputs": [
    {
     "name": "stdout",
     "output_type": "stream",
     "text": [
      "A total of 64 entries have been eliminated\n"
     ]
    }
   ],
   "source": [
    "# First, let's clean the data\n",
    "types,newdata = cleanMotionSensorsData(types, newdata)"
   ]
  },
  {
   "cell_type": "markdown",
   "id": "a03a1b6f-6f66-434c-a961-f5f2f8c7c72b",
   "metadata": {},
   "source": [
    "This is where we start to process the sensors. First, get the possible duration intervals for each MOTION sensor"
   ]
  },
  {
   "cell_type": "code",
   "execution_count": 5,
   "id": "0ca59fb0",
   "metadata": {},
   "outputs": [],
   "source": [
    "sensor_durations,sensor_times = getSensorIntervals(types)"
   ]
  },
  {
   "cell_type": "markdown",
   "id": "25c08bde-6c24-45e5-9de4-6f72fbe8c69c",
   "metadata": {},
   "source": [
    "Show statistics for one particular sensor. Note that getSensorIntervals can be easily modified to get information from doors as well."
   ]
  },
  {
   "cell_type": "code",
   "execution_count": 6,
   "id": "aa5232fd",
   "metadata": {},
   "outputs": [
    {
     "name": "stdout",
     "output_type": "stream",
     "text": [
      "There are a total of 6088 entries generated by the M001 sensor\n",
      "The mean is 5.85 and the standard deviation is 72.48\n",
      "Among these, there are exactly 3 values three times the std farther away from the mean\n",
      "(We will not plot these values in the histogram)\n"
     ]
    }
   ],
   "source": [
    "t=\"M001\"\n",
    "v = np.array(sorted(sensor_durations[t]))\n",
    "print(\"There are a total of %s entries generated by the %s sensor\"%(len(v),t))\n",
    "print(\"The mean is %.2f and the standard deviation is %.2f\"%(np.mean(v),np.std(v)))\n",
    "print(\"Among these, there are exactly %s values three times the std farther away from the mean\"%np.sum(v>np.mean(v)+3*np.std(v)))\n",
    "print(\"(We will not plot these values in the histogram)\")\n",
    "discard = np.sum(v>np.mean(v)+3*np.std(v))"
   ]
  },
  {
   "cell_type": "markdown",
   "id": "0bb2e75d-7659-4a07-af58-46079d750fec",
   "metadata": {},
   "source": [
    "<h2> Plot the histogram</h2>"
   ]
  },
  {
   "cell_type": "code",
   "execution_count": 7,
   "id": "71c0c052-660f-4305-9192-2e08de521d2f",
   "metadata": {},
   "outputs": [
    {
     "data": {
      "image/png": "[encoded data removed]",
      "text/plain": [
       "<Figure size 640x480 with 1 Axes>"
      ]
     },
     "metadata": {},
     "output_type": "display_data"
    }
   ],
   "source": [
    "#plt.rcParams[\"figure.figsize\"] = [5, 3]\n",
    "nbins = int(np.ceil(sorted(sensor_durations[t])[:-discard][-1]))\n",
    "x = plt.hist(sorted(sensor_durations[t])[:-discard],bins=nbins)\n",
    "plt.show()"
   ]
  },
  {
   "cell_type": "markdown",
   "id": "e9853820-3a59-4e2c-99b6-3922040fded2",
   "metadata": {},
   "source": [
    "For quick and visual identification of a normal distribution, use a QQ plot if you have only one variable to look at and a Box Plot if you have many. Use a histogram if you need to present your results to a non-statistical public. As a statistical test to confirm your hypothesis, use the Shapiro Wilk test."
   ]
  },
  {
   "cell_type": "code",
   "execution_count": 8,
   "id": "c93cd8ad-ac89-41c0-9e58-de843c285ee4",
   "metadata": {},
   "outputs": [
    {
     "data": {
      "text/plain": [
       "0.0"
      ]
     },
     "execution_count": 8,
     "metadata": {},
     "output_type": "execute_result"
    }
   ],
   "source": [
    "from scipy import stats\n",
    "res = stats.shapiro(sensor_durations[t][:min(5000,len(sensor_durations[t]))])\n",
    "res.pvalue"
   ]
  },
  {
   "cell_type": "markdown",
   "id": "1115f107-d014-48ad-950c-2bb0006ca265",
   "metadata": {},
   "source": [
    "A p-value smaller than 0.05 means that the points do not follow a normal distribution"
   ]
  },
  {
   "cell_type": "code",
   "execution_count": 9,
   "id": "f5589c12",
   "metadata": {},
   "outputs": [
    {
     "data": {
      "text/plain": [
       "0.9501494765281677"
      ]
     },
     "execution_count": 9,
     "metadata": {},
     "output_type": "execute_result"
    }
   ],
   "source": [
    "# Safety check with a normal distribution\n",
    "res = stats.shapiro(np.random.normal(loc=np.mean(v),scale=np.std(v),size=min(5000,len(v))))\n",
    "res.pvalue"
   ]
  },
  {
   "cell_type": "code",
   "execution_count": 10,
   "id": "39ab7abd",
   "metadata": {},
   "outputs": [],
   "source": [
    "args = stats.weibull_min.fit(sensor_durations[t])"
   ]
  },
  {
   "cell_type": "code",
   "execution_count": 11,
   "id": "56a5f1c7",
   "metadata": {},
   "outputs": [
    {
     "data": {
      "text/plain": [
       "KstestResult(statistic=0.6323815478560787, pvalue=0.0, statistic_location=1.4964620000027935, statistic_sign=-1)"
      ]
     },
     "execution_count": 11,
     "metadata": {},
     "output_type": "execute_result"
    }
   ],
   "source": [
    "stats.kstest(sensor_durations[t], 'weibull_min', args=args, N=100000)"
   ]
  },
  {
   "cell_type": "markdown",
   "id": "3807be87-a233-4c11-99e7-fdd5bfa89651",
   "metadata": {},
   "source": [
    "Let's see if they follow a Weibull distribution.<br>\n",
    "The Weibull distribution is a two parameter continuous distribution of positive random variables that is commonly used to describe the failure time of physical entities "
   ]
  },
  {
   "cell_type": "code",
   "execution_count": 12,
   "id": "e8de5529",
   "metadata": {},
   "outputs": [
    {
     "data": {
      "image/png": "[encoded data removed]",
      "text/plain": [
       "<Figure size 640x480 with 1 Axes>"
      ]
     },
     "metadata": {},
     "output_type": "display_data"
    }
   ],
   "source": [
    "count, bins, ignored = plt.hist(sorted(sensor_durations[t])[:-3],bins=100)\n",
    "x = np.arange(1,100.)/2.\n",
    "#plt.plot(x, weib(x, 2, 4)*400)"
   ]
  },
  {
   "cell_type": "code",
   "execution_count": 13,
   "id": "36de24f5-1609-4d28-9e7e-81950241b565",
   "metadata": {},
   "outputs": [
    {
     "data": {
      "image/png": "[encoded data removed]",
      "text/plain": [
       "<Figure size 640x480 with 1 Axes>"
      ]
     },
     "metadata": {},
     "output_type": "display_data"
    }
   ],
   "source": [
    "a = 5. # shape\n",
    "s = np.random.weibull(a, 1000)\n",
    "def weib(x,n,a):\n",
    "    return (a / n) * (x / n)**(a - 1) * np.exp(-(x / n)**a)\n",
    "count, bins, ignored = plt.hist(np.random.weibull(5.,1000))\n",
    "x = np.arange(1,100.)/50.\n",
    "scale = count.max()/weib(x, 1., 5.).max()\n",
    "plt.plot(x, weib(x, 1., 5.)*scale)\n",
    "plt.show()"
   ]
  },
  {
   "cell_type": "code",
   "execution_count": null,
   "id": "2a2f721a-7950-421a-8efb-17315c302ae2",
   "metadata": {},
   "outputs": [],
   "source": []
  }
 ],
 "metadata": {
  "kernelspec": {
   "display_name": "Python 3 (ipykernel)",
   "language": "python",
   "name": "python3"
  },
  "language_info": {
   "codemirror_mode": {
    "name": "ipython",
    "version": 3
   },
   "file_extension": ".py",
   "mimetype": "text/x-python",
   "name": "python",
   "nbconvert_exporter": "python",
   "pygments_lexer": "ipython3",
   "version": "3.11.5"
  }
 },
 "nbformat": 4,
 "nbformat_minor": 5
}
