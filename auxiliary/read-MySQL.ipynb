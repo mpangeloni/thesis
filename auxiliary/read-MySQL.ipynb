{
 "cells": [
  {
   "cell_type": "markdown",
   "id": "2f1b6090-18d3-43ce-9fbd-d0c8f2722dc2",
   "metadata": {},
   "source": [
    "To start, I installed the following in my computer:\n",
    "\n",
    "- pip install mysql-connector-python\n",
    "- pip install mysql-connector-python pandas openpyxl\n"
   ]
  },
  {
   "cell_type": "code",
   "execution_count": 3,
   "id": "603f371b-377c-4e16-a940-745668c1fc59",
   "metadata": {},
   "outputs": [],
   "source": [
    "import mysql.connector\n",
    "from mysql.connector import Error\n",
    "import pandas as pd"
   ]
  },
  {
   "cell_type": "markdown",
   "id": "897110fa-3adc-4bca-a729-0302d79502eb",
   "metadata": {},
   "source": [
    "Adapted function to read a table in MySQL and save the information in an Excel file:"
   ]
  },
  {
   "cell_type": "code",
   "execution_count": null,
   "id": "f83ecf17-84fb-4994-b031-4535d81efee6",
   "metadata": {},
   "outputs": [],
   "source": [
    "def read_data():\n",
    "    try:\n",
    "        # establishing the connection\n",
    "        connection = mysql.connector.connect(\n",
    "            host='localhost',\n",
    "            user='root',\n",
    "            password='pi',\n",
    "            database='FirstDB'\n",
    "        )\n",
    "\n",
    "        if connection.is_connected():\n",
    "            print(\"Successfully connected to the database\")\n",
    "\n",
    "            cursor = connection.cursor() # create a cursor object\n",
    "\n",
    "            query = \"SELECT * FROM interactions\" # write the query\n",
    "\n",
    "            cursor.execute(query) # execute the query\n",
    "\n",
    "            rows = cursor.fetchall() # fetch all the rows\n",
    "\n",
    "            column_names = [i[0] for i in cursor.description]  # get the column names\n",
    "\n",
    "            df = pd.DataFrame(rows, columns=column_names) # create a DataFrame\n",
    "\n",
    "            df.to_excel('output.xlsx', index=False) # save DataFrame to Excel\n",
    "\n",
    "            print(\"Data has been successfully saved to output.xlsx\")\n",
    "\n",
    "    except Error as e:\n",
    "        print(f\"Error: {e}\")\n",
    "\n",
    "    finally:\n",
    "        if connection.is_connected():\n",
    "            cursor.close()\n",
    "            connection.close()\n",
    "            print(\"MySQL connection is closed\")\n",
    "\n",
    "if __name__ == \"__main__\":\n",
    "    read_data()"
   ]
  },
  {
   "cell_type": "markdown",
   "id": "712613a3-51b8-4459-ae55-1f75f4d29237",
   "metadata": {},
   "source": [
    "Original function to read the information in the MySQL database:"
   ]
  },
  {
   "cell_type": "code",
   "execution_count": null,
   "id": "8a9cf4e4-02a5-4e12-940f-dc18714ce801",
   "metadata": {},
   "outputs": [],
   "source": [
    "def read_data():\n",
    "    try:\n",
    "        # Establishing the connection\n",
    "        connection = mysql.connector.connect(\n",
    "            host='root',\n",
    "            user='your_username',\n",
    "            password='pi',\n",
    "            database='FirstDB'\n",
    "        )\n",
    "\n",
    "        if connection.is_connected():\n",
    "            print(\"Successfully connected to the database\")\n",
    "\n",
    "            # Create a cursor object\n",
    "            cursor = connection.cursor()\n",
    "\n",
    "            # Write the query\n",
    "            query = \"SELECT * FROM your_table\"\n",
    "\n",
    "            # Execute the query\n",
    "            cursor.execute(query)\n",
    "\n",
    "            # Fetch all the rows\n",
    "            rows = cursor.fetchall()\n",
    "\n",
    "            # Print the rows\n",
    "            for row in rows:\n",
    "                print(row)\n",
    "\n",
    "    except Error as e:\n",
    "        print(f\"Error: {e}\")\n",
    "\n",
    "    finally:\n",
    "        if connection.is_connected():\n",
    "            cursor.close()\n",
    "            connection.close()\n",
    "            print(\"MySQL connection is closed\")\n",
    "\n",
    "if __name__ == \"__main__\":\n",
    "    read_data()"
   ]
  }
 ],
 "metadata": {
  "kernelspec": {
   "display_name": "Python 3 (ipykernel)",
   "language": "python",
   "name": "python3"
  },
  "language_info": {
   "codemirror_mode": {
    "name": "ipython",
    "version": 3
   },
   "file_extension": ".py",
   "mimetype": "text/x-python",
   "name": "python",
   "nbconvert_exporter": "python",
   "pygments_lexer": "ipython3",
   "version": "3.11.5"
  }
 },
 "nbformat": 4,
 "nbformat_minor": 5
}
